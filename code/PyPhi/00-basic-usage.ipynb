{
 "cells": [
  {
   "cell_type": "markdown",
   "id": "c6f9f292",
   "metadata": {},
   "source": [
    "## A walkthrough of how to use PyPhi in an interactive Jupyter session\n",
    "\n",
    "Modified from https://pyphi.readthedocs.io/en/latest/examples/index.html  (using the `pyphi-explore` environment)\n",
    "\n",
    "\n",
    "See `environment_pyphi.yaml` file:\n",
    "\n",
    "\n",
    "```\n",
    "## Guidelines for the environmnet\n",
    "\n",
    "# Creating environment\n",
    "# conda env create -f environment_pyphi.yml\n",
    "\n",
    "# Activating the environment\n",
    "# conda activate pyphi-explore\n",
    "\n",
    "# To make a PYPHI-EXPLORE kernel:\n",
    "# python -m ipykernel install --user --name pyphi-explore --display-name \"PYPHI-EXPLORE\"\n",
    "\n",
    "# To update the pyphi-explore conda environment:\n",
    "# conda env update -f environment_pyphi.yml\n",
    "\n",
    "# To remove and reinstall the pyphi-explore environment (if installation problems):\n",
    "# conda deactivate\n",
    "# conda env remove -n pyphi-explore\n",
    "\n",
    "# Recreating the environment\n",
    "# conda env create -f environment_pyphi.yml\n",
    "```"
   ]
  },
  {
   "cell_type": "markdown",
   "id": "21268f07",
   "metadata": {},
   "source": [
    "See also \n",
    "- http://integratedinformationtheory.org/calculate.html\n",
    "- https://github.com/ELIFE-ASU/pyphi-spectrum (a wrapper for PyPhi that can be used to calculate all possible Phi values for a given subsystem)"
   ]
  },
  {
   "cell_type": "code",
   "execution_count": 1,
   "id": "fbde0b1a",
   "metadata": {},
   "outputs": [],
   "source": [
    "import pyphi\n",
    "import numpy as np"
   ]
  },
  {
   "cell_type": "markdown",
   "id": "bd2ac51f",
   "metadata": {},
   "source": [
    "We have done `WELCOME_OFF: true` in our `pyphi_config.yml`, otherwise we will see:\n",
    "\n",
    "```\n",
    "Welcome to PyPhi!\n",
    "\n",
    "If you use PyPhi in your research, please cite the paper:\n",
    "\n",
    "  Mayner WGP, Marshall W, Albantakis L, Findlay G, Marchman R, Tononi G.\n",
    "  (2018). PyPhi: A toolbox for integrated information theory.\n",
    "  PLOS Computational Biology 14(7): e1006343.\n",
    "  https://doi.org/10.1371/journal.pcbi.1006343\n",
    "\n",
    "Documentation is available online (or with the built-in `help()` function):\n",
    "  https://pyphi.readthedocs.io\n",
    "\n",
    "To report issues, please use the issue tracker on the GitHub repository:\n",
    "  https://github.com/wmayner/pyphi\n",
    "\n",
    "For general discussion, you are welcome to join the pyphi-users group:\n",
    "  https://groups.google.com/forum/#!forum/pyphi-users\n",
    "\n",
    "To suppress this message, either:\n",
    "  - Set `WELCOME_OFF: true` in your `pyphi_config.yml` file, or\n",
    "  - Set the environment variable PYPHI_WELCOME_OFF to any value in your shell:\n",
    "        export PYPHI_WELCOME_OFF='yes'\n",
    "```"
   ]
  },
  {
   "cell_type": "code",
   "execution_count": 2,
   "id": "a4a45e54",
   "metadata": {},
   "outputs": [],
   "source": [
    "tpm = np.array([\n",
    "...     [0, 0, 0],\n",
    "...     [0, 0, 1],\n",
    "...     [1, 0, 1],\n",
    "...     [1, 0, 0],\n",
    "...     [1, 1, 0],\n",
    "...     [1, 1, 1],\n",
    "...     [1, 1, 1],\n",
    "...     [1, 1, 0]\n",
    "... ])"
   ]
  },
  {
   "cell_type": "code",
   "execution_count": 3,
   "id": "8c846db0",
   "metadata": {},
   "outputs": [
    {
     "data": {
      "text/plain": [
       "array([[0, 0, 0],\n",
       "       [0, 0, 1],\n",
       "       [1, 0, 1],\n",
       "       [1, 0, 0],\n",
       "       [1, 1, 0],\n",
       "       [1, 1, 1],\n",
       "       [1, 1, 1],\n",
       "       [1, 1, 0]])"
      ]
     },
     "execution_count": 3,
     "metadata": {},
     "output_type": "execute_result"
    }
   ],
   "source": [
    "tpm"
   ]
  },
  {
   "cell_type": "markdown",
   "id": "144b2851",
   "metadata": {},
   "source": [
    "The _connectivity matrix_ is a square matrix such that the $(i,j)^{th}$\n",
    "entry is $1$ if there is a connection from node $i$ to node $j$, and $0$ otherwise."
   ]
  },
  {
   "cell_type": "code",
   "execution_count": 4,
   "id": "f9c1d5dc",
   "metadata": {},
   "outputs": [],
   "source": [
    "cm = np.array([\n",
    "...     [0, 0, 1],\n",
    "...     [1, 0, 1],\n",
    "...     [1, 1, 0]\n",
    "... ])"
   ]
  },
  {
   "cell_type": "markdown",
   "id": "afe80eb6",
   "metadata": {},
   "source": [
    "Making _labels_ for the network nodes so that PyPhi’s output is easier to read"
   ]
  },
  {
   "cell_type": "code",
   "execution_count": 5,
   "id": "efea3b76",
   "metadata": {},
   "outputs": [],
   "source": [
    "labels = ('A', 'B', 'C')"
   ]
  },
  {
   "cell_type": "markdown",
   "id": "c305edf5",
   "metadata": {},
   "source": [
    "Construct the network itself with the arguments just created:"
   ]
  },
  {
   "cell_type": "code",
   "execution_count": 6,
   "id": "395c916d",
   "metadata": {},
   "outputs": [],
   "source": [
    "network = pyphi.Network(tpm, cm=cm, node_labels=labels)"
   ]
  },
  {
   "cell_type": "markdown",
   "id": "7696d5e8",
   "metadata": {},
   "source": [
    "The next step is to define a subsystem for which we want to evaluate Φ. To make a subsystem, we need the network that it belongs to, the state of that network, and the indices of the subset of nodes which should be included.\n",
    "\n",
    "The state should be an $n$-tuple, where $n$ is the number of nodes in the network, and where the $i^{th}$ element is the state of the $i^{th}$ node in the network."
   ]
  },
  {
   "cell_type": "code",
   "execution_count": 7,
   "id": "c186ae90",
   "metadata": {},
   "outputs": [],
   "source": [
    "state = (1, 0, 0)"
   ]
  },
  {
   "cell_type": "markdown",
   "id": "f27ea1f6",
   "metadata": {},
   "source": [
    "In this case, we want the Φ of the entire network, so we simply include every node in the network in our subsystem:"
   ]
  },
  {
   "cell_type": "code",
   "execution_count": 8,
   "id": "4dfcc657",
   "metadata": {},
   "outputs": [],
   "source": [
    "node_indices = (0, 1, 2)"
   ]
  },
  {
   "cell_type": "code",
   "execution_count": 9,
   "id": "bf3e5ab0",
   "metadata": {},
   "outputs": [],
   "source": [
    "subsystem = pyphi.Subsystem(network, state, node_indices)"
   ]
  },
  {
   "cell_type": "markdown",
   "id": "a2643695",
   "metadata": {},
   "source": [
    "If you do not explicitly provide node indices to a Subsystem the system will, by default, cover the entire network. For example, the following is equivalent to the above definition of subsystem:"
   ]
  },
  {
   "cell_type": "code",
   "execution_count": 10,
   "id": "718834c5",
   "metadata": {},
   "outputs": [],
   "source": [
    "# subsystem = pyphi.Subsystem(network, state)"
   ]
  },
  {
   "cell_type": "markdown",
   "id": "ee65547a",
   "metadata": {},
   "source": [
    "Node labels can be used instead of indices when constructing a Subsystem:"
   ]
  },
  {
   "cell_type": "code",
   "execution_count": 11,
   "id": "ca8fd4fd",
   "metadata": {},
   "outputs": [],
   "source": [
    "# pyphi.Subsystem(network, state, ('B', 'C'))"
   ]
  },
  {
   "cell_type": "markdown",
   "id": "9e8b2835",
   "metadata": {},
   "source": [
    "Now we use the [phi()](https://pyphi.readthedocs.io/en/latest/api/compute.subsystem.html#pyphi.compute.subsystem.phi) function to compute the Φ of our subsystem:"
   ]
  },
  {
   "cell_type": "code",
   "execution_count": 12,
   "id": "a92e8a4f",
   "metadata": {},
   "outputs": [
    {
     "name": "stderr",
     "output_type": "stream",
     "text": [
      "                                                                                "
     ]
    },
    {
     "name": "stdout",
     "output_type": "stream",
     "text": [
      "CPU times: user 105 ms, sys: 253 ms, total: 358 ms\n",
      "Wall time: 4.35 s\n"
     ]
    },
    {
     "name": "stderr",
     "output_type": "stream",
     "text": [
      "\r"
     ]
    },
    {
     "data": {
      "text/plain": [
       "2.3125"
      ]
     },
     "execution_count": 12,
     "metadata": {},
     "output_type": "execute_result"
    }
   ],
   "source": [
    "%%time\n",
    "pyphi.compute.phi(subsystem)"
   ]
  },
  {
   "cell_type": "markdown",
   "id": "ece02b01",
   "metadata": {},
   "source": [
    "f we want to take a deeper look at the integrated-information-theoretic properties of our network, we can access all the intermediate quantities and structures that are calculated in the course of arriving at a final Φ value by using sia(). This returns a nested object, SystemIrreducibilityAnalysis, that contains data about the subsystem’s cause-effect structure, cause and effect repertoires, etc."
   ]
  },
  {
   "cell_type": "code",
   "execution_count": 13,
   "id": "f56da57b",
   "metadata": {},
   "outputs": [
    {
     "name": "stderr",
     "output_type": "stream",
     "text": [
      "                                                                                "
     ]
    },
    {
     "name": "stdout",
     "output_type": "stream",
     "text": [
      "CPU times: user 104 ms, sys: 251 ms, total: 356 ms\n",
      "Wall time: 4.34 s\n"
     ]
    },
    {
     "name": "stderr",
     "output_type": "stream",
     "text": [
      "\r"
     ]
    }
   ],
   "source": [
    "%%time\n",
    "sia = pyphi.compute.sia(subsystem)"
   ]
  },
  {
   "cell_type": "markdown",
   "id": "73a89f90",
   "metadata": {},
   "source": [
    "For instance, we can see that this network has 4 concepts:"
   ]
  },
  {
   "cell_type": "code",
   "execution_count": 14,
   "id": "ccbc8935",
   "metadata": {},
   "outputs": [
    {
     "data": {
      "text/plain": [
       "4"
      ]
     },
     "execution_count": 14,
     "metadata": {},
     "output_type": "execute_result"
    }
   ],
   "source": [
    "len(sia.ces)"
   ]
  },
  {
   "cell_type": "markdown",
   "id": "70b7c6e2",
   "metadata": {},
   "source": [
    "See the documentation for [`SystemIrreducibilityAnalysis`](https://pyphi.readthedocs.io/en/latest/api/models.subsystem.html#pyphi.models.subsystem.SystemIrreducibilityAnalysis) and Concept for more information on these objects."
   ]
  },
  {
   "cell_type": "markdown",
   "id": "c624b85c",
   "metadata": {},
   "source": [
    "The network and subsystem discussed here are returned by the [`pyphi.examples.basic_network()`](https://pyphi.readthedocs.io/en/latest/api/examples.html#pyphi.examples.basic_network) and [`pyphi.examples.basic_subsystem()`](https://pyphi.readthedocs.io/en/latest/api/examples.html#pyphi.examples.basic_subsystem) functions."
   ]
  },
  {
   "cell_type": "code",
   "execution_count": null,
   "id": "c59e313b",
   "metadata": {},
   "outputs": [],
   "source": []
  }
 ],
 "metadata": {
  "kernelspec": {
   "display_name": "PYPHI-EXPLORE",
   "language": "python",
   "name": "pyphi-explore"
  },
  "language_info": {
   "codemirror_mode": {
    "name": "ipython",
    "version": 3
   },
   "file_extension": ".py",
   "mimetype": "text/x-python",
   "name": "python",
   "nbconvert_exporter": "python",
   "pygments_lexer": "ipython3",
   "version": "3.8.12"
  }
 },
 "nbformat": 4,
 "nbformat_minor": 5
}
