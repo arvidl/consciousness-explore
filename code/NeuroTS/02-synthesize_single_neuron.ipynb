{
 "cells": [
  {
   "cell_type": "code",
   "execution_count": 1,
   "metadata": {},
   "outputs": [],
   "source": [
    "%matplotlib inline"
   ]
  },
  {
   "cell_type": "markdown",
   "metadata": {},
   "source": [
    "\n",
    "# Synthesize a single neuron\n",
    "\n",
    "This example shows how to synthesize a single cell with simple parameters.\n"
   ]
  },
  {
   "cell_type": "code",
   "execution_count": 2,
   "metadata": {},
   "outputs": [
    {
     "name": "stderr",
     "output_type": "stream",
     "text": [
      "No diametrizer provided, so neurons will have default diameters.\n"
     ]
    }
   ],
   "source": [
    "from pathlib import Path\n",
    "\n",
    "import neurots\n",
    "\n",
    "\n",
    "def run(output_dir, data_dir):\n",
    "    \"\"\"Run the example for generating a single cell.\"\"\"\n",
    "    # Initialize a neuron\n",
    "    N = neurots.NeuronGrower(\n",
    "        input_distributions=data_dir / \"bio_distr.json\",\n",
    "        input_parameters=data_dir / \"bio_params.json\",\n",
    "    )\n",
    "\n",
    "    # Grow the neuron\n",
    "    neuron = N.grow()\n",
    "\n",
    "    # Export the synthesized cell\n",
    "    neuron.write(output_dir / \"generated_cell.asc\")\n",
    "    neuron.write(output_dir / \"generated_cell.swc\")\n",
    "    neuron.write(output_dir / \"generated_cell.h5\")\n",
    "\n",
    "\n",
    "if __name__ == \"__main__\":\n",
    "    result_dir = Path(\"results/results_single_neuron\")\n",
    "    result_dir.mkdir(parents=True, exist_ok=True)\n",
    "\n",
    "    run(result_dir, Path(\"data\"))"
   ]
  },
  {
   "cell_type": "code",
   "execution_count": null,
   "metadata": {},
   "outputs": [],
   "source": []
  }
 ],
 "metadata": {
  "kernelspec": {
   "display_name": "NEUROTS-EXPLORE",
   "language": "python",
   "name": "neurots-explore"
  },
  "language_info": {
   "codemirror_mode": {
    "name": "ipython",
    "version": 3
   },
   "file_extension": ".py",
   "mimetype": "text/x-python",
   "name": "python",
   "nbconvert_exporter": "python",
   "pygments_lexer": "ipython3",
   "version": "3.9.12"
  }
 },
 "nbformat": 4,
 "nbformat_minor": 1
}
